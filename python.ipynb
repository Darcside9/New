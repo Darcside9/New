{
 "cells": [
  {
   "cell_type": "code",
   "execution_count": null,
   "metadata": {},
   "outputs": [],
   "source": [
    "from math import tan, pi\n",
    "import time"
   ]
  },
  {
   "cell_type": "code",
   "execution_count": null,
   "metadata": {},
   "outputs": [],
   "source": [
    "n = float(input('Enter the lenght of each side if the polygon: '))"
   ]
  },
  {
   "cell_type": "code",
   "execution_count": null,
   "metadata": {},
   "outputs": [],
   "source": [
    "s = float(input('Enter the number of the sides: '))"
   ]
  },
  {
   "cell_type": "code",
   "execution_count": null,
   "metadata": {},
   "outputs": [],
   "source": [
    "area = (n * s ** 2) / (4 * tan(pi / n))\n",
    "time.sleep(1)"
   ]
  },
  {
   "cell_type": "code",
   "execution_count": null,
   "metadata": {},
   "outputs": [],
   "source": [
    "print('The area of the polygon is', area)"
   ]
  },
  {
   "cell_type": "code",
   "execution_count": null,
   "metadata": {},
   "outputs": [],
   "source": [
    "bullok = 'This is a long sentence'"
   ]
  },
  {
   "cell_type": "code",
   "execution_count": null,
   "metadata": {},
   "outputs": [],
   "source": [
    "len(bullok)"
   ]
  },
  {
   "cell_type": "code",
   "execution_count": null,
   "metadata": {},
   "outputs": [],
   "source": [
    "bullok[2]"
   ]
  },
  {
   "cell_type": "code",
   "execution_count": null,
   "metadata": {},
   "outputs": [],
   "source": [
    "bullok[2: 15]"
   ]
  },
  {
   "cell_type": "code",
   "execution_count": null,
   "metadata": {},
   "outputs": [],
   "source": [
    "print('Hello')\n",
    "print('World')"
   ]
  },
  {
   "cell_type": "code",
   "execution_count": null,
   "metadata": {},
   "outputs": [],
   "source": [
    "bullok[:10]"
   ]
  },
  {
   "cell_type": "code",
   "execution_count": null,
   "metadata": {},
   "outputs": [],
   "source": [
    "my_bool = True and False\n",
    "print(my_bool)"
   ]
  },
  {
   "cell_type": "code",
   "execution_count": null,
   "metadata": {},
   "outputs": [],
   "source": [
    "my_bool = True or False\n",
    "print(my_bool)"
   ]
  },
  {
   "cell_type": "code",
   "execution_count": null,
   "metadata": {},
   "outputs": [],
   "source": [
    "my_bool = False\n",
    "print(not my_bool)"
   ]
  },
  {
   "cell_type": "code",
   "execution_count": null,
   "metadata": {},
   "outputs": [],
   "source": [
    "num1 = 10\n",
    "num2 = 20\n",
    "\n",
    "print(num1 & num2)\n",
    "print(num1 | num2)\n",
    "print(num1 ^ num2)\n",
    "print(~num1)\n",
    "print(num1 << 3)\n",
    "print(num2 >> 3)"
   ]
  },
  {
   "cell_type": "code",
   "execution_count": null,
   "metadata": {},
   "outputs": [],
   "source": [
    "my_string = '0123456789'\n",
    "my_string[-2: -6: -2]"
   ]
  },
  {
   "cell_type": "code",
   "execution_count": null,
   "metadata": {},
   "outputs": [],
   "source": [
    "x=20\n",
    "y=5\n",
    "result = (x + True) / (4 - y * False)\n",
    "result"
   ]
  },
  {
   "cell_type": "code",
   "execution_count": null,
   "metadata": {},
   "outputs": [],
   "source": [
    "num = 70\n",
    "\n",
    "if num <= 50:\n",
    "    print('The number is less than or equals to 50')\n",
    "else:\n",
    "    print('The number is greater than 50')\n",
    "    \n",
    "if num > 50:\n",
    "    print('Same as else')"
   ]
  },
  {
   "cell_type": "code",
   "execution_count": null,
   "metadata": {},
   "outputs": [],
   "source": [
    "result = 4000\n",
    "\n",
    "if (num1 > 50 or not num2 <= 5):\n",
    "    result = num1 * num2\n",
    "else:\n",
    "    result = num1 + num2\n",
    "    \n",
    "result"
   ]
  },
  {
   "cell_type": "code",
   "execution_count": null,
   "metadata": {},
   "outputs": [],
   "source": [
    "num = int(input('Enter an integer: '))\n",
    "\n",
    "if num % 2 == 1:\n",
    "    print(num, 'is odd')\n",
    "else:\n",
    "    print(num, 'is even')"
   ]
  },
  {
   "cell_type": "code",
   "execution_count": null,
   "metadata": {},
   "outputs": [],
   "source": [
    "from functools import singledispatchmethod\n",
    "\n",
    "\n",
    "side1 = float(input('Enter the length of side1:'))\n",
    "side2 = float(input('Enter the length of side2:'))\n",
    "side3 = float(input('Enter the length of side3:'))\n",
    "\n",
    "if side1 == side2 and side2 == side3:\n",
    "    name = 'equilateral'\n",
    "elif side1 == side2 or side2 == side3 or side3 == side1:\n",
    "    name = 'isoceles'\n",
    "else:\n",
    "    name = 'scalen'\n",
    "    \n",
    "print(\"That's a \", name, \"Triangle\")"
   ]
  },
  {
   "cell_type": "code",
   "execution_count": null,
   "metadata": {},
   "outputs": [],
   "source": [
    "from days.in.month import daysInMonth\n",
    "def isMagicDate(day, month, year):\n",
    "    if day * month == year % 100:\n",
    "        return True\n",
    "    return False\n",
    "\n",
    "def main():\n",
    "    for year in range(1900, 2024):\n",
    "        for month in range(1, 13):\n",
    "            for day in range(1, daysInMonth(month, year) + 1):\n",
    "                print(\"%02d/%02d/%04d is a magig date.\" % (day, month, year) )\n",
    "    \n",
    "    \n",
    "main()"
   ]
  },
  {
   "cell_type": "code",
   "execution_count": null,
   "metadata": {},
   "outputs": [],
   "source": [
    "def isPalindrome(s):\n",
    "    if len(s) <= 1:\n",
    "        return True\n",
    "    \n",
    "    return s[0] == s[len(s) - 1] and isPalindrome(s[1 : len(s) - 1])\n",
    "\n",
    "def main():\n",
    "    line = input('Enter a string: ')\n",
    "    if isPalindrome(line):\n",
    "        print('That was a Planidrome!')\n",
    "    else:\n",
    "        print('That is not a Planidrome.')\n",
    "    \n",
    "main()"
   ]
  },
  {
   "cell_type": "code",
   "execution_count": null,
   "metadata": {},
   "outputs": [],
   "source": [
    "string_list = ['Anakin', 'Luke', 'Rey', 'Darc', 'John']\n",
    "for s in string_list:\n",
    "    if len(s) < 5:\n",
    "        print(len(s))"
   ]
  },
  {
   "cell_type": "code",
   "execution_count": null,
   "metadata": {},
   "outputs": [],
   "source": []
  }
 ],
 "metadata": {
  "kernelspec": {
   "display_name": "Python 3",
   "language": "python",
   "name": "python3"
  },
  "language_info": {
   "codemirror_mode": {
    "name": "ipython",
    "version": 3
   },
   "file_extension": ".py",
   "mimetype": "text/x-python",
   "name": "python",
   "nbconvert_exporter": "python",
   "pygments_lexer": "ipython3",
   "version": "3.10.7 (main, Nov 24 2022, 19:45:47) [GCC 12.2.0]"
  },
  "orig_nbformat": 4,
  "vscode": {
   "interpreter": {
    "hash": "e7370f93d1d0cde622a1f8e1c04877d8463912d04d973331ad4851f04de6915a"
   }
  }
 },
 "nbformat": 4,
 "nbformat_minor": 2
}
